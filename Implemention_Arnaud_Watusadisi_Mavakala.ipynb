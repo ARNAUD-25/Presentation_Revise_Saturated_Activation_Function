{
  "nbformat": 4,
  "nbformat_minor": 0,
  "metadata": {
    "colab": {
      "name": "Implemention_Arnaud_Watusadisi_Mavakala.ipynb",
      "provenance": [],
      "collapsed_sections": []
    },
    "kernelspec": {
      "display_name": "Python 3",
      "language": "python",
      "name": "python3"
    },
    "language_info": {
      "codemirror_mode": {
        "name": "ipython",
        "version": 3
      },
      "file_extension": ".py",
      "mimetype": "text/x-python",
      "name": "python",
      "nbconvert_exporter": "python",
      "pygments_lexer": "ipython3",
      "version": "3.8.5"
    }
  },
  "cells": [
    {
      "cell_type": "code",
      "metadata": {
        "id": "avDvjj0j05zf"
      },
      "source": [
        ""
      ],
      "execution_count": null,
      "outputs": []
    },
    {
      "cell_type": "code",
      "metadata": {
        "colab": {
          "base_uri": "https://localhost:8080/"
        },
        "id": "kXTzdiTrqFOa",
        "outputId": "23b827a8-0623-4b8e-baae-4e927288388a"
      },
      "source": [
        "cd /content/drive/MyDrive/mongodb_MapReduce/"
      ],
      "execution_count": 30,
      "outputs": [
        {
          "output_type": "stream",
          "text": [
            "/content/drive/MyDrive/mongodb_MapReduce\n"
          ],
          "name": "stdout"
        }
      ]
    },
    {
      "cell_type": "code",
      "metadata": {
        "id": "FPGLI9uXp-lD"
      },
      "source": [
        "import torch as torch\n",
        "import dlc_practical_prologue as prologue\n",
        "import progressbar\n",
        "from dlc_practical_prologue import *"
      ],
      "execution_count": 69,
      "outputs": []
    },
    {
      "cell_type": "code",
      "metadata": {
        "colab": {
          "base_uri": "https://localhost:8080/"
        },
        "id": "KasAJe-OqDQJ",
        "outputId": "96484abe-267b-4165-dc30-062a0af0a1ac"
      },
      "source": [
        "from google.colab import drive\n",
        "drive.mount('/content/drive')"
      ],
      "execution_count": 70,
      "outputs": [
        {
          "output_type": "stream",
          "text": [
            "Drive already mounted at /content/drive; to attempt to forcibly remount, call drive.mount(\"/content/drive\", force_remount=True).\n"
          ],
          "name": "stdout"
        }
      ]
    },
    {
      "cell_type": "code",
      "metadata": {
        "colab": {
          "base_uri": "https://localhost:8080/"
        },
        "id": "7JvpRMajp-lO",
        "outputId": "a12728aa-18f2-4d79-f56c-c8b3353d57b1"
      },
      "source": [
        "train_input, train_target, test_input, test_target = load_data(cifar = True, one_hot_labels =True, normalize =True, flatten = True)"
      ],
      "execution_count": 71,
      "outputs": [
        {
          "output_type": "stream",
          "text": [
            "* Using CIFAR\n",
            "Files already downloaded and verified\n",
            "Files already downloaded and verified\n",
            "** Reduce the data-set (use --full for the full thing)\n",
            "** Use 1000 train and 1000 test samples\n"
          ],
          "name": "stdout"
        }
      ]
    },
    {
      "cell_type": "code",
      "metadata": {
        "colab": {
          "base_uri": "https://localhost:8080/"
        },
        "id": "-p1dMdxAp-lP",
        "outputId": "4600a22f-4482-4496-e592-3f2a2c580cf0"
      },
      "source": [
        " train_input.shape"
      ],
      "execution_count": 195,
      "outputs": [
        {
          "output_type": "execute_result",
          "data": {
            "text/plain": [
              "torch.Size([1000, 3072])"
            ]
          },
          "metadata": {},
          "execution_count": 195
        }
      ]
    },
    {
      "cell_type": "code",
      "metadata": {
        "id": "lHEZ2ZU2z5qH"
      },
      "source": [
        "def loss(v,t):\n",
        "  return torch.sum((t - v).pow(2))"
      ],
      "execution_count": 196,
      "outputs": []
    },
    {
      "cell_type": "code",
      "metadata": {
        "id": "2iPR7RS1z7WH"
      },
      "source": [
        "def dloss(v, t):\n",
        "  return  - 2 * (t - v)"
      ],
      "execution_count": 197,
      "outputs": []
    },
    {
      "cell_type": "code",
      "metadata": {
        "id": "CLS4CFdS01KU"
      },
      "source": [
        "def compute_error(pred,target):\n",
        "    pred_ones = torch.argmax(pred, dim=1)\n",
        "    target_ones = torch.nonzero(target)[:, 1]\n",
        "    return ((pred_ones != target_ones).sum().item() / target.shape[0])"
      ],
      "execution_count": 198,
      "outputs": []
    },
    {
      "cell_type": "markdown",
      "metadata": {
        "id": "SGngkrSDp-lQ"
      },
      "source": [
        "## Activation function"
      ]
    },
    {
      "cell_type": "markdown",
      "metadata": {
        "id": "Kew1imhbzr6w"
      },
      "source": [
        "## 1. Sigmoide function"
      ]
    },
    {
      "cell_type": "code",
      "metadata": {
        "id": "iIqXiONGD8ia"
      },
      "source": [
        "def sigmoid(x):\n",
        "  s=1/(1+torch.exp(-x))\n",
        "  return s"
      ],
      "execution_count": 199,
      "outputs": []
    },
    {
      "cell_type": "code",
      "metadata": {
        "id": "ByHS6-WpD8la"
      },
      "source": [
        "def dsigmoid(x):\n",
        "  s=1/(1+torch.exp(-x))\n",
        "  ds=s*(1-s)  \n",
        "  return ds"
      ],
      "execution_count": 200,
      "outputs": []
    },
    {
      "cell_type": "code",
      "metadata": {
        "id": "FTOzb8smzy-H"
      },
      "source": [
        "class Neural_Network1:\n",
        "  def __init__(self, hidden_size, in_size=3072, out_size=10, lr=0.01, std=1e-6):\n",
        "    self.W1 = torch.randn((in_size, hidden_size))\n",
        "    self.b1 = torch.randn((1,hidden_size))\n",
        "    self.W2 = torch.randn((hidden_size,out_size))\n",
        "    self.b2 = torch.randn((1,out_size))\n",
        "\n",
        "    self.dW1 = torch.zeros((in_size, hidden_size))\n",
        "    self.db1 = torch.zeros((1,hidden_size))\n",
        "    self.dW2 = torch.zeros((hidden_size,out_size))\n",
        "    self.db2 = torch.zeros((1,out_size))\n",
        "\n",
        "    self.lr = lr\n",
        "\n",
        "  def forward(self,x):\n",
        "    x_1 = x @ self.W1 + self.b1\n",
        "    s_1 = sigmoid(x_1)\n",
        "    x_2 = s_1 @ self.W2 + self.b2\n",
        "    out =  sigmoid(x_2)\n",
        "    return x_1, s_1, x_2, out\n",
        "\n",
        "  def backward_pass(self, t, x, s1, x1,s2, x2):\n",
        "    self.dW2 = s1.T @ (dloss(s2,t) * dsigmoid(x2)) \n",
        "    self.db2 = dloss(s2,t) * dsigmoid(x2)\n",
        "    self.dW1 = x.T @ ((dloss(s2,t)*dsigmoid(x2)@ self.W2.T) * dsigmoid(x1))\n",
        "    self.db1 = (dloss(s2,t)*dsigmoid(x2)@ self.W2.T) * dsigmoid(x1)\n",
        "\n",
        "    self.W1 -= self.lr * self.dW1\n",
        "    self.b1 -= self.lr * self.db1\n",
        "    self.W2 -= self.lr * self.dW2\n",
        "    self.b2 -= self.lr * self.db2\n",
        "\n",
        "\n",
        "  def zero_gradient(self):\n",
        "    self.dW1.zero_()\n",
        "    self.db1.zero_()\n",
        "    self.dW2.zero_()\n",
        "    self.db2.zero_()\n",
        "\n",
        "\n",
        "  def train(self, X, y,test_input,test_target,  epoch):\n",
        "    test_losses1 = []\n",
        "    train_losses1 = []\n",
        "    for i in range(epoch):\n",
        "      epoch_loss = 0.0\n",
        "      for j, data in enumerate(X):\n",
        "        ## forward\n",
        "        data = data[None,...]\n",
        "        target = y[j][None,...]\n",
        "        x_1, s_1, x_2, out = self.forward(data)\n",
        "\n",
        "        t = target * 0.9 ##  multiply target by 0.9\n",
        "        epoch_loss += loss(out, t).item() ## loss\n",
        "\n",
        "        ## backward\n",
        "        self.backward_pass(t, data, s_1, x_1, out, x_2)\n",
        "\n",
        "        ## zero gradient\n",
        "        self.zero_gradient()\n",
        "\n",
        "      if i % 100 == 0:\n",
        "        train_loss = loss(model1.forward(test_input)[-1], test_target*0.9)\n",
        "        train_losses1.append(train_loss)\n",
        "        test_losses1.append(train_loss / test_input.shape[0])\n",
        "        print(f'Epoch {i} Train Loss: {epoch_loss/ X.shape[0]} and Test loss: {train_loss / test_input.shape[0]}')\n",
        "    return (train_losses1, test_losses1)\n",
        "\n",
        "  def accuracy(self,pred,target):\n",
        "    pred_ones = torch.argmax(pred, dim=1)\n",
        "    target_ones = torch.nonzero(target)[:, 1]\n",
        "    return ((pred_ones == target_ones).sum().item() / target.shape[0])"
      ],
      "execution_count": 147,
      "outputs": []
    },
    {
      "cell_type": "code",
      "metadata": {
        "colab": {
          "base_uri": "https://localhost:8080/"
        },
        "id": "rAr-vTvHzzCZ",
        "outputId": "93792517-f24b-4a87-b9bd-e048cce4736c"
      },
      "source": [
        "model1 = Neural_Network1(50,in_size=3072,out_size=10,lr=0.001)\n",
        "train_losses1, test_losses1 = model1.train(train_input, train_target, test_input, test_target, epoch=500)"
      ],
      "execution_count": 201,
      "outputs": [
        {
          "output_type": "stream",
          "text": [
            "Epoch 0 Train Loss: 1.2472176607847214 and Test loss: 0.8563259840011597\n",
            "Epoch 100 Train Loss: 0.6922504360079765 and Test loss: 0.6964943408966064\n",
            "Epoch 200 Train Loss: 0.6023364191651345 and Test loss: 0.660029947757721\n",
            "Epoch 300 Train Loss: 0.4724480913393199 and Test loss: 0.6613358855247498\n",
            "Epoch 400 Train Loss: 0.333071254666429 and Test loss: 0.6917814016342163\n"
          ],
          "name": "stdout"
        }
      ]
    },
    {
      "cell_type": "code",
      "metadata": {
        "colab": {
          "base_uri": "https://localhost:8080/"
        },
        "id": "1pTg30KLzzFm",
        "outputId": "0b57de14-c289-4d66-df37-af5f4c690230"
      },
      "source": [
        "pred1 = model1.forward(train_input)[-1]\n",
        "model1.accuracy(pred1, train_target)"
      ],
      "execution_count": 204,
      "outputs": [
        {
          "output_type": "execute_result",
          "data": {
            "text/plain": [
              "0.865"
            ]
          },
          "metadata": {},
          "execution_count": 204
        }
      ]
    },
    {
      "cell_type": "code",
      "metadata": {
        "colab": {
          "base_uri": "https://localhost:8080/"
        },
        "id": "wdWuOsYVzzIc",
        "outputId": "eb3eb5e7-9cd9-4ab1-b858-b92f6855520e"
      },
      "source": [
        "pred1 = model1.forward(test_input)[-1]\n",
        "model1.accuracy(pred1, test_target)"
      ],
      "execution_count": 205,
      "outputs": [
        {
          "output_type": "execute_result",
          "data": {
            "text/plain": [
              "0.294"
            ]
          },
          "metadata": {},
          "execution_count": 205
        }
      ]
    },
    {
      "cell_type": "code",
      "metadata": {
        "colab": {
          "base_uri": "https://localhost:8080/",
          "height": 685
        },
        "id": "PW34H3jqzzLX",
        "outputId": "e1635707-3fa1-481a-8fd1-0bdc48c4367c"
      },
      "source": [
        "import matplotlib.pyplot as plt\n",
        "\n",
        "plt.figure(figsize=(14,10), dpi = 80)\n",
        "plt.plot(train_losses1)\n",
        "plt.plot(test_losses1)\n",
        "plt.legend([\"Train Loss\",\"Test Loss\"])\n",
        "plt.xlabel(\"Number of Iteration\")\n",
        "plt.ylabel(\"Loss\")\n",
        "plt.title(\"Train Loss vs Test Loss\")\n",
        "plt.show()"
      ],
      "execution_count": 206,
      "outputs": [
        {
          "output_type": "display_data",
          "data": {
            "image/png": "[encoded data removed]",
            "text/plain": [
              "<Figure size 1120x800 with 1 Axes>"
            ]
          },
          "metadata": {
            "needs_background": "light"
          }
        }
      ]
    },
    {
      "cell_type": "code",
      "metadata": {
        "id": "1CGQTjtmzzqu"
      },
      "source": [
        ""
      ],
      "execution_count": 108,
      "outputs": []
    },
    {
      "cell_type": "markdown",
      "metadata": {
        "id": "-uG7ExlT1Tb3"
      },
      "source": [
        "## 2. scaled sigmoid"
      ]
    },
    {
      "cell_type": "code",
      "metadata": {
        "id": "jSt0Y8A-D8oV"
      },
      "source": [
        "def s_sigmoid(x):\n",
        "  s=(1/(1+torch.exp(-x)))-0.1\n",
        "  return s"
      ],
      "execution_count": 272,
      "outputs": []
    },
    {
      "cell_type": "code",
      "metadata": {
        "id": "pE2vxD5YEEbo"
      },
      "source": [
        "def ds_sigmoid(x):\n",
        "  s= (1/(1+torch.exp(-x)))-0.1\n",
        "  ds= (s*(1-s))  \n",
        "  return ds"
      ],
      "execution_count": 273,
      "outputs": []
    },
    {
      "cell_type": "code",
      "metadata": {
        "id": "YYYH3_gE1bSt"
      },
      "source": [
        "class Neural_Network2:\n",
        "  def __init__(self, hidden_size, in_size=3072, out_size=10, lr=0.01, std=1e-6):\n",
        "    self.W1 = torch.randn((in_size, hidden_size)).normal_(0, std)\n",
        "    self.b1 = torch.randn((1,hidden_size)).normal_(0, std)\n",
        "    self.W2 = torch.randn((hidden_size,out_size)).normal_(0, std)\n",
        "    self.b2 = torch.randn((1,out_size)).normal_(0, std)\n",
        "\n",
        "    self.dW1 = torch.zeros((in_size, hidden_size))\n",
        "    self.db1 = torch.zeros((1,hidden_size))\n",
        "    self.dW2 = torch.zeros((hidden_size,out_size))\n",
        "    self.db2 = torch.zeros((1,out_size))\n",
        "\n",
        "    self.lr = lr\n",
        "\n",
        "  def forward(self,x):\n",
        "    x_1 = x @ self.W1 + self.b1\n",
        "    s_1 = s_sigmoid(x_1)\n",
        "    x_2 = s_1 @ self.W2 + self.b2\n",
        "    out =  s_sigmoid(x_2)\n",
        "    return x_1, s_1, x_2, out\n",
        "\n",
        "  def backward_pass(self, t, x, s1, x1,s2, x2):\n",
        "    self.dW2 = s1.T @ (dloss(s2,t) * ds_sigmoid(x2)) \n",
        "    self.db2 = dloss(s2,t) * ds_sigmoid(x2)\n",
        "    self.dW1 = x.T @ ((dloss(s2,t)*ds_sigmoid(x2)@ self.W2.T) * ds_sigmoid(x1))\n",
        "    self.db1 = (dloss(s2,t)*ds_sigmoid(x2)@ self.W2.T) * ds_sigmoid(x1)\n",
        "\n",
        "    self.W1 -= self.lr * self.dW1\n",
        "    self.b1 -= self.lr * self.db1\n",
        "    self.W2 -= self.lr * self.dW2\n",
        "    self.b2 -= self.lr * self.db2\n",
        "\n",
        "\n",
        "  def zero_gradient(self):\n",
        "    self.dW1.zero_()\n",
        "    self.db1.zero_()\n",
        "    self.dW2.zero_()\n",
        "    self.db2.zero_()\n",
        "\n",
        "\n",
        "  def train(self, X, y,test_input,test_target,  epoch):\n",
        "    test_losses2 = []\n",
        "    train_losses2 = []\n",
        "    for i in range(epoch):\n",
        "      epoch_loss = 0.0\n",
        "      for j, data in enumerate(X):\n",
        "        ## forward\n",
        "        data = data[None,...]\n",
        "        target = y[j][None,...]\n",
        "        x_1, s_1, x_2, out = self.forward(data)\n",
        "\n",
        "        t = target * 0.9 ##  multiply target by 0.9\n",
        "        epoch_loss += loss(out, t).item() ## loss\n",
        "\n",
        "        ## backward\n",
        "        self.backward_pass(t, data, s_1, x_1, out, x_2)\n",
        "\n",
        "        ## zero gradient\n",
        "        self.zero_gradient()\n",
        "\n",
        "      if i % 100 == 0:\n",
        "        train_loss = loss(model2.forward(test_input)[-1], test_target*0.9)\n",
        "        train_losses2.append(train_loss)\n",
        "        test_losses2.append(train_loss / test_input.shape[0])\n",
        "        print(f'Epoch {i} Train Loss: {epoch_loss/ X.shape[0]} and Test loss: {train_loss / test_input.shape[0]}')\n",
        "    return (train_losses2, test_losses2)\n",
        "\n",
        "  def accuracy(self,pred,target):\n",
        "    pred_ones = torch.argmax(pred, dim=1)\n",
        "    target_ones = torch.nonzero(target)[:, 1]\n",
        "    return ((pred_ones == target_ones).sum().item() / target.shape[0])"
      ],
      "execution_count": 279,
      "outputs": []
    },
    {
      "cell_type": "code",
      "metadata": {
        "colab": {
          "base_uri": "https://localhost:8080/"
        },
        "id": "CPvZruGu1bWD",
        "outputId": "46e44675-57ff-439c-dea9-0c473fa33481"
      },
      "source": [
        "model2 = Neural_Network2(50,in_size=3072,out_size=10,lr=0.001)\n",
        "train_losses2, test_losses2 = model2.train(train_input, train_target, test_input, test_target, epoch=500)"
      ],
      "execution_count": 280,
      "outputs": [
        {
          "output_type": "stream",
          "text": [
            "Epoch 0 Train Loss: 1.1362428067922592 and Test loss: 0.8676419258117676\n",
            "Epoch 100 Train Loss: 0.6868248894512653 and Test loss: 0.6926253437995911\n",
            "Epoch 200 Train Loss: 0.8597319418489933 and Test loss: 0.8735001087188721\n",
            "Epoch 300 Train Loss: 0.9387050076127053 and Test loss: 0.9410659074783325\n",
            "Epoch 400 Train Loss: 0.9416140313148499 and Test loss: 0.9463579058647156\n"
          ],
          "name": "stdout"
        }
      ]
    },
    {
      "cell_type": "code",
      "metadata": {
        "colab": {
          "base_uri": "https://localhost:8080/"
        },
        "id": "gx9Dzxhm1bZM",
        "outputId": "af325863-11ca-4513-9d36-286a3adcb058"
      },
      "source": [
        "pred2 = model2.forward(train_input)[-1]\n",
        "model2.accuracy(pred2, train_target)"
      ],
      "execution_count": 281,
      "outputs": [
        {
          "output_type": "execute_result",
          "data": {
            "text/plain": [
              "0.147"
            ]
          },
          "metadata": {},
          "execution_count": 281
        }
      ]
    },
    {
      "cell_type": "code",
      "metadata": {
        "colab": {
          "base_uri": "https://localhost:8080/"
        },
        "id": "yar2kTfv1bbk",
        "outputId": "60bdc691-14db-46d7-a2b3-8e3698499f1d"
      },
      "source": [
        "pred2 = model2.forward(test_input)[-1]\n",
        "model2.accuracy(pred2, test_target)"
      ],
      "execution_count": 282,
      "outputs": [
        {
          "output_type": "execute_result",
          "data": {
            "text/plain": [
              "0.128"
            ]
          },
          "metadata": {},
          "execution_count": 282
        }
      ]
    },
    {
      "cell_type": "code",
      "metadata": {
        "colab": {
          "base_uri": "https://localhost:8080/",
          "height": 685
        },
        "id": "OFQcqG4q1bfA",
        "outputId": "b244d0ea-73c4-430c-d1fc-08d2d1527cc5"
      },
      "source": [
        "import matplotlib.pyplot as plt\n",
        "\n",
        "plt.figure(figsize=(14,10), dpi = 80)\n",
        "plt.plot(train_losses2)\n",
        "plt.plot(test_losses2)\n",
        "plt.legend([\"Train Loss\",\"Test Loss\"])\n",
        "plt.xlabel(\"Number of Iteration\")\n",
        "plt.ylabel(\"Loss\")\n",
        "plt.title(\"Train Loss vs Test Loss\")\n",
        "plt.show()"
      ],
      "execution_count": 283,
      "outputs": [
        {
          "output_type": "display_data",
          "data": {
            "image/png": "[encoded data removed]",
            "text/plain": [
              "<Figure size 1120x800 with 1 Axes>"
            ]
          },
          "metadata": {
            "needs_background": "light"
          }
        }
      ]
    },
    {
      "cell_type": "markdown",
      "metadata": {
        "id": "nMYB46XS3L4j"
      },
      "source": [
        "## 3. Tanh"
      ]
    },
    {
      "cell_type": "code",
      "metadata": {
        "id": "P8akRmMh1blf"
      },
      "source": [
        "def sigma(x):\n",
        "  return torch.tanh(x)"
      ],
      "execution_count": 116,
      "outputs": []
    },
    {
      "cell_type": "code",
      "metadata": {
        "id": "ihe_9u7a3R44"
      },
      "source": [
        "def dsigma(x):\n",
        "  return 1 - torch.tanh(x)**2"
      ],
      "execution_count": 117,
      "outputs": []
    },
    {
      "cell_type": "code",
      "metadata": {
        "id": "Hbb2P3Fx5wuR"
      },
      "source": [
        "class Neural_Network3:\n",
        "  def __init__(self, hidden_size, in_size=3072, out_size=10, lr=0.01, std=1e-6):\n",
        "    self.W1 = torch.randn((in_size, hidden_size)).normal_(0, std)\n",
        "    self.b1 = torch.randn((1,hidden_size)).normal_(0, std)\n",
        "    self.W2 = torch.randn((hidden_size,out_size)).normal_(0, std)\n",
        "    self.b2 = torch.randn((1,out_size)).normal_(0, std)\n",
        "\n",
        "    self.dW1 = torch.zeros((in_size, hidden_size))\n",
        "    self.db1 = torch.zeros((1,hidden_size))\n",
        "    self.dW2 = torch.zeros((hidden_size,out_size))\n",
        "    self.db2 = torch.zeros((1,out_size))\n",
        "\n",
        "    self.lr = lr\n",
        "\n",
        "  def forward(self,x):\n",
        "    x_1 = x @ self.W1 + self.b1\n",
        "    s_1 = sigma(x_1)\n",
        "    x_2 = s_1 @ self.W2 + self.b2\n",
        "    out =  sigma(x_2)\n",
        "    return x_1, s_1, x_2, out\n",
        "\n",
        "  def backward_pass(self, t, x, s1, x1,s2, x2):\n",
        "    self.dW2 = s1.T @ (dloss(s2,t) * dsigma(x2)) \n",
        "    self.db2 = dloss(s2,t) * dsigma(x2)\n",
        "    self.dW1 = x.T @ ((dloss(s2,t)*dsigma(x2)@ self.W2.T) * dsigma(x1))\n",
        "    self.db1 = (dloss(s2,t)*dsigma(x2)@ self.W2.T) * dsigma(x1)\n",
        "\n",
        "    self.W1 -= self.lr * self.dW1\n",
        "    self.b1 -= self.lr * self.db1\n",
        "    self.W2 -= self.lr * self.dW2\n",
        "    self.b2 -= self.lr * self.db2\n",
        "\n",
        "\n",
        "  def zero_gradient(self):\n",
        "    self.dW1.zero_()\n",
        "    self.db1.zero_()\n",
        "    self.dW2.zero_()\n",
        "    self.db2.zero_()\n",
        "\n",
        "\n",
        "  def train(self, X, y,test_input,test_target,  epoch):\n",
        "    test_losses3 = []\n",
        "    train_losses3 = []\n",
        "    for i in range(epoch):\n",
        "      epoch_loss = 0.0\n",
        "      for j, data in enumerate(X):\n",
        "        ## forward\n",
        "        data = data[None,...]\n",
        "        target = y[j][None,...]\n",
        "        x_1, s_1, x_2, out = self.forward(data)\n",
        "\n",
        "        t = target * 0.9 ##  multiply target by 0.9\n",
        "        epoch_loss += loss(out, t).item() ## loss\n",
        "\n",
        "        ## backward\n",
        "        self.backward_pass(t, data, s_1, x_1, out, x_2)\n",
        "\n",
        "        ## zero gradient\n",
        "        self.zero_gradient()\n",
        "\n",
        "      if i % 100 == 0:\n",
        "        train_loss = loss(model3.forward(test_input)[-1], test_target*0.9)\n",
        "        train_losses3.append(train_loss)\n",
        "        test_losses3.append(train_loss / test_input.shape[0])\n",
        "        print(f'Epoch {i} Train Loss: {epoch_loss/ X.shape[0]} and Test loss: {train_loss / test_input.shape[0]}')\n",
        "    return (train_losses3, test_losses3)\n",
        "\n",
        "  def accuracy(self,pred,target):\n",
        "    pred_ones = torch.argmax(pred, dim=1)\n",
        "    target_ones = torch.nonzero(target)[:, 1]\n",
        "    return ((pred_ones == target_ones).sum().item() / target.shape[0])"
      ],
      "execution_count": 118,
      "outputs": []
    },
    {
      "cell_type": "code",
      "metadata": {
        "colab": {
          "base_uri": "https://localhost:8080/"
        },
        "id": "6ZpiFDaC5xmf",
        "outputId": "6d9f5bfc-5507-4b20-81d3-2fb54df84c35"
      },
      "source": [
        "model3 = Neural_Network3(50,in_size=3072,out_size=10,lr=0.25)\n",
        "train_losses3, test_losses3 = model3.train(train_input, train_target, test_input, test_target, epoch=500)"
      ],
      "execution_count": 119,
      "outputs": [
        {
          "output_type": "stream",
          "text": [
            "Epoch 0 Train Loss: 0.7747723453342915 and Test loss: 0.8472880125045776\n",
            "Epoch 100 Train Loss: 0.2608267909102142 and Test loss: 1.446847677230835\n",
            "Epoch 200 Train Loss: 0.2047731765974313 and Test loss: 1.482849359512329\n",
            "Epoch 300 Train Loss: 0.1842573622148484 and Test loss: 1.4972350597381592\n",
            "Epoch 400 Train Loss: 0.17321607326343655 and Test loss: 1.5628221035003662\n"
          ],
          "name": "stdout"
        }
      ]
    },
    {
      "cell_type": "code",
      "metadata": {
        "colab": {
          "base_uri": "https://localhost:8080/"
        },
        "id": "V-R-Hr6f5xrX",
        "outputId": "2a740e1d-0381-4745-c8c3-cd6ff5eb4bd2"
      },
      "source": [
        "pred3 = model3.forward(train_input)[-1]\n",
        "model3.accuracy(pred3, train_target)"
      ],
      "execution_count": 120,
      "outputs": [
        {
          "output_type": "execute_result",
          "data": {
            "text/plain": [
              "0.971"
            ]
          },
          "metadata": {},
          "execution_count": 120
        }
      ]
    },
    {
      "cell_type": "code",
      "metadata": {
        "colab": {
          "base_uri": "https://localhost:8080/"
        },
        "id": "bsxhJDFX5xuh",
        "outputId": "6f3f2cef-827d-42de-817d-f862b8c43ed4"
      },
      "source": [
        "pred3 = model3.forward(test_input)[-1]\n",
        "model3.accuracy(pred3, test_target)"
      ],
      "execution_count": 121,
      "outputs": [
        {
          "output_type": "execute_result",
          "data": {
            "text/plain": [
              "0.193"
            ]
          },
          "metadata": {},
          "execution_count": 121
        }
      ]
    },
    {
      "cell_type": "code",
      "metadata": {
        "colab": {
          "base_uri": "https://localhost:8080/",
          "height": 351
        },
        "id": "OsS1_oO9563U",
        "outputId": "e02739cb-dfca-42ff-c087-92b1caa1a92a"
      },
      "source": [
        "import matplotlib.pyplot as plt\n",
        "\n",
        "plt.figure(figsize=(14,10), dpi = 40)\n",
        "plt.plot(train_losses3)\n",
        "plt.plot(test_losses3)\n",
        "plt.legend([\"Train Loss\",\"Test Loss\"])\n",
        "plt.xlabel(\"Number of Iteration\")\n",
        "plt.ylabel(\"Loss\")\n",
        "plt.title(\"Train Loss vs Test Loss\")\n",
        "plt.show()"
      ],
      "execution_count": 122,
      "outputs": [
        {
          "output_type": "display_data",
          "data": {
            "image/png": "[encoded data removed]",
            "text/plain": [
              "<Figure size 560x400 with 1 Axes>"
            ]
          },
          "metadata": {
            "needs_background": "light"
          }
        }
      ]
    },
    {
      "cell_type": "markdown",
      "metadata": {
        "id": "c1_0k9kC4McB"
      },
      "source": [
        "## 4. penalized tanh"
      ]
    },
    {
      "cell_type": "code",
      "metadata": {
        "id": "LxX4U-8CliKU"
      },
      "source": [
        "def tanh(x, a):\n",
        "  return torch.where(x>0, torch.tanh(x), a*torch.tanh(x))"
      ],
      "execution_count": 123,
      "outputs": []
    },
    {
      "cell_type": "code",
      "metadata": {
        "id": "4zADIXynpk5Y"
      },
      "source": [
        "def dtanh(x, a):\n",
        "  t = torch.tanh(x)\n",
        "  return torch.where(x>0, 1-t**2, a*(1-t**2))"
      ],
      "execution_count": 124,
      "outputs": []
    },
    {
      "cell_type": "code",
      "metadata": {
        "id": "7WZ6tNW86xfR"
      },
      "source": [
        "class Neural_Network4:\n",
        "  def __init__(self, hidden_size, in_size=3072, out_size=10, lr=0.01, std=1e-6):\n",
        "    self.W1 = torch.randn((in_size, hidden_size)).normal_(0, std)\n",
        "    self.b1 = torch.randn((1,hidden_size)).normal_(0, std)\n",
        "    self.W2 = torch.randn((hidden_size,out_size)).normal_(0, std)\n",
        "    self.b2 = torch.randn((1,out_size)).normal_(0, std)\n",
        "\n",
        "    self.dW1 = torch.zeros((in_size, hidden_size))\n",
        "    self.db1 = torch.zeros((1,hidden_size))\n",
        "    self.dW2 = torch.zeros((hidden_size,out_size))\n",
        "    self.db2 = torch.zeros((1,out_size))\n",
        "\n",
        "    self.lr = lr\n",
        "\n",
        "  def forward(self,x):\n",
        "    x_1 = x @ self.W1 + self.b1\n",
        "    s_1 = tanh(x_1, 0.25)\n",
        "    x_2 = s_1 @ self.W2 + self.b2\n",
        "    out =  tanh(x_2, 0.25)\n",
        "    return x_1, s_1, x_2, out\n",
        "\n",
        "  def backward_pass(self, t, x, s1, x1,s2, x2):\n",
        "    self.dW2 = s1.T @ (dloss(s2,t) * dtanh(x2, 0.25)) \n",
        "    self.db2 = dloss(s2,t) * dtanh(x2, 0.25)\n",
        "    self.dW1 = x.T @ ((dloss(s2,t)*dtanh(x2, 0.25)@ self.W2.T) * dtanh(x1, 0.25))\n",
        "    self.db1 = (dloss(s2,t)*dtanh(x2, 0.25)@ self.W2.T) * dtanh(x1, 0.25)\n",
        "\n",
        "    self.W1 -= self.lr * self.dW1\n",
        "    self.b1 -= self.lr * self.db1\n",
        "    self.W2 -= self.lr * self.dW2\n",
        "    self.b2 -= self.lr * self.db2\n",
        "\n",
        "\n",
        "  def zero_gradient(self):\n",
        "    self.dW1.zero_()\n",
        "    self.db1.zero_()\n",
        "    self.dW2.zero_()\n",
        "    self.db2.zero_()\n",
        "\n",
        "\n",
        "  def train(self, X, y,test_input,test_target,  epoch):\n",
        "    test_losses4 = []\n",
        "    train_losses4 = []\n",
        "    for i in range(epoch):\n",
        "      epoch_loss = 0.0\n",
        "      for j, data in enumerate(X):\n",
        "        ## forward\n",
        "        data = data[None,...]\n",
        "        target = y[j][None,...]\n",
        "        x_1, s_1, x_2, out = self.forward(data)\n",
        "\n",
        "        t = target * 0.9 ##  multiply target by 0.9\n",
        "        epoch_loss += loss(out, t).item() ## loss\n",
        "\n",
        "        ## backward\n",
        "        self.backward_pass(t, data, s_1, x_1, out, x_2)\n",
        "\n",
        "        ## zero gradient\n",
        "        self.zero_gradient()\n",
        "\n",
        "      if i % 100 == 0:\n",
        "        train_loss = loss(model4.forward(test_input)[-1], test_target*0.9)\n",
        "        train_losses4.append(train_loss)\n",
        "        test_losses4.append(train_loss / test_input.shape[0])\n",
        "        print(f'Epoch {i} Train Loss: {epoch_loss/ X.shape[0]} and Test loss: {train_loss / test_input.shape[0]}')\n",
        "    return (train_losses4, test_losses4)\n",
        "\n",
        "  def accuracy(self,pred,target):\n",
        "    pred_ones = torch.argmax(pred, dim=1)\n",
        "    target_ones = torch.nonzero(target)[:, 1]\n",
        "    return ((pred_ones == target_ones).sum().item() / target.shape[0])"
      ],
      "execution_count": 125,
      "outputs": []
    },
    {
      "cell_type": "code",
      "metadata": {
        "colab": {
          "base_uri": "https://localhost:8080/"
        },
        "id": "Ik4yq7Sr6xiH",
        "outputId": "e2749312-08c6-406d-b17a-82b22e120a55"
      },
      "source": [
        "model4 = Neural_Network4(50,in_size=3072,out_size=10,lr=0.25)\n",
        "train_losses4, test_losses4 = model4.train(train_input, train_target, test_input, test_target, epoch=500)"
      ],
      "execution_count": 126,
      "outputs": [
        {
          "output_type": "stream",
          "text": [
            "Epoch 0 Train Loss: 0.7252363239005208 and Test loss: 0.705921471118927\n",
            "Epoch 100 Train Loss: 0.08047511616535485 and Test loss: 1.0342426300048828\n",
            "Epoch 200 Train Loss: 0.0585998527482152 and Test loss: 1.0978611707687378\n",
            "Epoch 300 Train Loss: 0.05228255919646472 and Test loss: 1.1228859424591064\n",
            "Epoch 400 Train Loss: 0.04690475866105408 and Test loss: 1.1525079011917114\n"
          ],
          "name": "stdout"
        }
      ]
    },
    {
      "cell_type": "code",
      "metadata": {
        "colab": {
          "base_uri": "https://localhost:8080/"
        },
        "id": "N-3axM3E7A9r",
        "outputId": "6bfc8d06-5be4-434a-ce82-48babcf4456c"
      },
      "source": [
        "pred4 = model4.forward(train_input)[-1]\n",
        "model4.accuracy(pred4, train_target)"
      ],
      "execution_count": 127,
      "outputs": [
        {
          "output_type": "execute_result",
          "data": {
            "text/plain": [
              "1.0"
            ]
          },
          "metadata": {},
          "execution_count": 127
        }
      ]
    },
    {
      "cell_type": "code",
      "metadata": {
        "colab": {
          "base_uri": "https://localhost:8080/"
        },
        "id": "BU0hc2YL7BC0",
        "outputId": "6bae05e8-4b34-4d55-df54-376301cc6e67"
      },
      "source": [
        "pred4 = model4.forward(test_input)[-1]\n",
        "model4.accuracy(pred4, test_target)"
      ],
      "execution_count": 128,
      "outputs": [
        {
          "output_type": "execute_result",
          "data": {
            "text/plain": [
              "0.227"
            ]
          },
          "metadata": {},
          "execution_count": 128
        }
      ]
    },
    {
      "cell_type": "code",
      "metadata": {
        "colab": {
          "base_uri": "https://localhost:8080/",
          "height": 351
        },
        "id": "D5qs7LtH7PDd",
        "outputId": "d1ed4efc-9c23-419d-e4e4-d9873553563b"
      },
      "source": [
        "import matplotlib.pyplot as plt\n",
        "\n",
        "plt.figure(figsize=(14,10), dpi = 40)\n",
        "plt.plot(train_losses4)\n",
        "plt.plot(test_losses4)\n",
        "plt.legend([\"Train Loss\",\"Test Loss\"])\n",
        "plt.xlabel(\"Number of Iteration\")\n",
        "plt.ylabel(\"Loss\")\n",
        "plt.title(\"Train Loss vs Test Loss\")\n",
        "plt.show()"
      ],
      "execution_count": 129,
      "outputs": [
        {
          "output_type": "display_data",
          "data": {
            "image/png": "[encoded data removed]",
            "text/plain": [
              "<Figure size 560x400 with 1 Axes>"
            ]
          },
          "metadata": {
            "needs_background": "light"
          }
        }
      ]
    },
    {
      "cell_type": "markdown",
      "metadata": {
        "id": "CVB-ZYDJ5eNP"
      },
      "source": [
        "## 5. ReLU"
      ]
    },
    {
      "cell_type": "code",
      "metadata": {
        "id": "MscshEyr5lsq"
      },
      "source": [
        "def ReLU(x):\n",
        "  return x * torch.where(x>0) "
      ],
      "execution_count": 130,
      "outputs": []
    },
    {
      "cell_type": "code",
      "metadata": {
        "id": "9VNsqfu067Qv"
      },
      "source": [
        "def dReLU(x):\n",
        "  return 1 * torch.where(x>0) "
      ],
      "execution_count": 131,
      "outputs": []
    },
    {
      "cell_type": "code",
      "metadata": {
        "id": "Q95ERGHW6-oE"
      },
      "source": [
        "class Neural_Network5:\n",
        "  def __init__(self, hidden_size, in_size=3072, out_size=10, lr=0.01, std=1e-6):\n",
        "    self.W1 = torch.randn((in_size, hidden_size)).normal_(0, std)\n",
        "    self.b1 = torch.randn((1,hidden_size)).normal_(0, std)\n",
        "    self.W2 = torch.randn((hidden_size,out_size)).normal_(0, std)\n",
        "    self.b2 = torch.randn((1,out_size)).normal_(0, std)\n",
        "\n",
        "    self.dW1 = torch.zeros((in_size, hidden_size))\n",
        "    self.db1 = torch.zeros((1,hidden_size))\n",
        "    self.dW2 = torch.zeros((hidden_size,out_size))\n",
        "    self.db2 = torch.zeros((1,out_size))\n",
        "\n",
        "    self.lr = lr\n",
        "\n",
        "  def forward(self,x):\n",
        "    x_1 = x @ self.W1 + self.b1\n",
        "    s_1 = tanh(x_1, 0.25)\n",
        "    x_2 = s_1 @ self.W2 + self.b2\n",
        "    out =  tanh(x_2, 0.25)\n",
        "    return x_1, s_1, x_2, out\n",
        "\n",
        "  def backward_pass(self, t, x, s1, x1,s2, x2):\n",
        "    self.dW2 = s1.T @ (dloss(s2,t) * dtanh(x2, 0.25)) \n",
        "    self.db2 = dloss(s2,t) * tanh(x2, 0.25)\n",
        "    self.dW1 = x.T @ ((dloss(s2,t)*tanh(x2, 0.25)@ self.W2.T) * tanh(x1, 0.25))\n",
        "    self.db1 = (dloss(s2,t)*tanh(x2, 0.25)@ self.W2.T) * tanh(x1, 0.25)\n",
        "\n",
        "    self.W1 -= self.lr * self.dW1\n",
        "    self.b1 -= self.lr * self.db1\n",
        "    self.W2 -= self.lr * self.dW2\n",
        "    self.b2 -= self.lr * self.db2\n",
        "\n",
        "\n",
        "  def zero_gradient(self):\n",
        "    self.dW1.zero_()\n",
        "    self.db1.zero_()\n",
        "    self.dW2.zero_()\n",
        "    self.db2.zero_()\n",
        "\n",
        "\n",
        "  def train(self, X, y,test_input,test_target,  epoch):\n",
        "    test_losses5 = []\n",
        "    train_losses5 = []\n",
        "    for i in range(epoch):\n",
        "      epoch_loss = 0.0\n",
        "      for j, data in enumerate(X):\n",
        "        ## forward\n",
        "        data = data[None,...]\n",
        "        target = y[j][None,...]\n",
        "        x_1, s_1, x_2, out = self.forward(data)\n",
        "\n",
        "        t = target * 0.9 ##  multiply target by 0.9\n",
        "        epoch_loss += loss(out, t).item() ## loss\n",
        "\n",
        "        ## backward\n",
        "        self.backward_pass(t, data, s_1, x_1, out, x_2)\n",
        "\n",
        "        ## zero gradient\n",
        "        self.zero_gradient()\n",
        "\n",
        "      if i % 100 == 0:\n",
        "        train_loss = loss(model5.forward(test_input)[-1], test_target*0.9)\n",
        "        train_losses5.append(train_loss)\n",
        "        test_losses5.append(train_loss / test_input.shape[0])\n",
        "        print(f'Epoch {i} Train Loss: {epoch_loss/ X.shape[0]} and Test loss: {train_loss / test_input.shape[0]}')\n",
        "    return (train_losses5, test_losses5)\n",
        "\n",
        "  def accuracy(self,pred,target):\n",
        "    pred_ones = torch.argmax(pred, dim=1)\n",
        "    target_ones = torch.nonzero(target)[:, 1]\n",
        "    return ((pred_ones == target_ones).sum().item() / target.shape[0])"
      ],
      "execution_count": 132,
      "outputs": []
    },
    {
      "cell_type": "code",
      "metadata": {
        "colab": {
          "base_uri": "https://localhost:8080/"
        },
        "id": "4CfRdHdj6-rF",
        "outputId": "756ca061-f6ca-4fa2-ab5f-32d426074b41"
      },
      "source": [
        "model5 = Neural_Network5(50,in_size=3072,out_size=10,lr=0.25)\n",
        "train_losses5, test_losses5 = model5.train(train_input, train_target, test_input, test_target, epoch=500)"
      ],
      "execution_count": 133,
      "outputs": [
        {
          "output_type": "stream",
          "text": [
            "Epoch 0 Train Loss: 0.80999906873703 and Test loss: 0.8099977970123291\n",
            "Epoch 100 Train Loss: 1.189511601984501 and Test loss: 1.1921335458755493\n",
            "Epoch 200 Train Loss: 1.8849999904632568 and Test loss: 1.8849998712539673\n",
            "Epoch 300 Train Loss: 1.8849999904632568 and Test loss: 1.8849998712539673\n",
            "Epoch 400 Train Loss: 1.8849999904632568 and Test loss: 1.8849998712539673\n"
          ],
          "name": "stdout"
        }
      ]
    },
    {
      "cell_type": "code",
      "metadata": {
        "colab": {
          "base_uri": "https://localhost:8080/"
        },
        "id": "AWatoZ8f6-uQ",
        "outputId": "317cad23-4155-4845-8991-cd0f624f4e42"
      },
      "source": [
        "pred5 = model5.forward(train_input)[-1]\n",
        "model5.accuracy(pred5, train_target)"
      ],
      "execution_count": 134,
      "outputs": [
        {
          "output_type": "execute_result",
          "data": {
            "text/plain": [
              "0.102"
            ]
          },
          "metadata": {},
          "execution_count": 134
        }
      ]
    },
    {
      "cell_type": "code",
      "metadata": {
        "colab": {
          "base_uri": "https://localhost:8080/"
        },
        "id": "iXmybd4N6-wf",
        "outputId": "0abd272c-3b5f-4a12-e3df-c69cfe201a50"
      },
      "source": [
        "pred5 = model5.forward(test_input)[-1]\n",
        "model5.accuracy(pred5, test_target)"
      ],
      "execution_count": 135,
      "outputs": [
        {
          "output_type": "execute_result",
          "data": {
            "text/plain": [
              "0.103"
            ]
          },
          "metadata": {},
          "execution_count": 135
        }
      ]
    },
    {
      "cell_type": "code",
      "metadata": {
        "colab": {
          "base_uri": "https://localhost:8080/",
          "height": 351
        },
        "id": "46i4HCQ26-zT",
        "outputId": "b9552aa2-dcb6-4882-a892-3468d5a8aed1"
      },
      "source": [
        "import matplotlib.pyplot as plt\n",
        "\n",
        "plt.figure(figsize=(14,10), dpi = 40)\n",
        "plt.plot(train_losses5)\n",
        "plt.plot(test_losses5)\n",
        "plt.legend([\"Train Loss\",\"Test Loss\"])\n",
        "plt.xlabel(\"Number of Iteration\")\n",
        "plt.ylabel(\"Loss\")\n",
        "plt.title(\"Train Loss vs Test Loss\")\n",
        "plt.show()"
      ],
      "execution_count": 136,
      "outputs": [
        {
          "output_type": "display_data",
          "data": {
            "image/png": "[encoded data removed]",
            "text/plain": [
              "<Figure size 560x400 with 1 Axes>"
            ]
          },
          "metadata": {
            "needs_background": "light"
          }
        }
      ]
    },
    {
      "cell_type": "markdown",
      "metadata": {
        "id": "QGlCzk9O8XwV"
      },
      "source": [
        "## 6. Leaky ReLU"
      ]
    },
    {
      "cell_type": "code",
      "metadata": {
        "id": "6oUKSekn7gCc"
      },
      "source": [
        "def LeakyReLU(x, a):\n",
        "  return torch.where(x>0, x, x*a) "
      ],
      "execution_count": 137,
      "outputs": []
    },
    {
      "cell_type": "code",
      "metadata": {
        "id": "v2IAYe4F7gE3"
      },
      "source": [
        "def dLeakyReLU(x, a):\n",
        "  return torch.where(x>0, 1, a) "
      ],
      "execution_count": 138,
      "outputs": []
    },
    {
      "cell_type": "code",
      "metadata": {
        "id": "rEemMZH18vH2"
      },
      "source": [
        "class Neural_Network6:\n",
        "  def __init__(self, hidden_size, in_size=3072, out_size=10, lr=0.01, std=1e-6):\n",
        "    self.W1 = torch.randn((in_size, hidden_size)).normal_(0, std)\n",
        "    self.b1 = torch.randn((1,hidden_size)).normal_(0, std)\n",
        "    self.W2 = torch.randn((hidden_size,out_size)).normal_(0, std)\n",
        "    self.b2 = torch.randn((1,out_size)).normal_(0, std)\n",
        "\n",
        "    self.dW1 = torch.zeros((in_size, hidden_size))\n",
        "    self.db1 = torch.zeros((1,hidden_size))\n",
        "    self.dW2 = torch.zeros((hidden_size,out_size))\n",
        "    self.db2 = torch.zeros((1,out_size))\n",
        "\n",
        "    self.lr = lr\n",
        "\n",
        "  def forward(self,x):\n",
        "    x_1 = x @ self.W1 + self.b1\n",
        "    s_1 = tanh(x_1, 0.25)\n",
        "    x_2 = s_1 @ self.W2 + self.b2\n",
        "    out =  tanh(x_2, 0.25)\n",
        "    return x_1, s_1, x_2, out\n",
        "\n",
        "  def backward_pass(self, t, x, s1, x1,s2, x2):\n",
        "    self.dW2 = s1.T @ (dloss(s2,t) * dtanh(x2, 0.25)) \n",
        "    self.db2 = dloss(s2,t) * tanh(x2, 0.25)\n",
        "    self.dW1 = x.T @ ((dloss(s2,t)*tanh(x2, 0.25)@ self.W2.T) * tanh(x1, 0.25))\n",
        "    self.db1 = (dloss(s2,t)*tanh(x2, 0.25)@ self.W2.T) * tanh(x1, 0.25)\n",
        "\n",
        "    self.W1 -= self.lr * self.dW1\n",
        "    self.b1 -= self.lr * self.db1\n",
        "    self.W2 -= self.lr * self.dW2\n",
        "    self.b2 -= self.lr * self.db2\n",
        "\n",
        "\n",
        "  def zero_gradient(self):\n",
        "    self.dW1.zero_()\n",
        "    self.db1.zero_()\n",
        "    self.dW2.zero_()\n",
        "    self.db2.zero_()\n",
        "\n",
        "\n",
        "  def train(self, X, y,test_input,test_target,  epoch):\n",
        "    test_losses5 = []\n",
        "    train_losses5 = []\n",
        "    for i in range(epoch):\n",
        "      epoch_loss = 0.0\n",
        "      for j, data in enumerate(X):\n",
        "        ## forward\n",
        "        data = data[None,...]\n",
        "        target = y[j][None,...]\n",
        "        x_1, s_1, x_2, out = self.forward(data)\n",
        "\n",
        "        t = target * 0.9 ##  multiply target by 0.9\n",
        "        epoch_loss += loss(out, t).item() ## loss\n",
        "\n",
        "        ## backward\n",
        "        self.backward_pass(t, data, s_1, x_1, out, x_2)\n",
        "\n",
        "        ## zero gradient\n",
        "        self.zero_gradient()\n",
        "\n",
        "      if i % 100 == 0:\n",
        "        train_loss = loss(model6.forward(test_input)[-1], test_target*0.9)\n",
        "        train_losses6.append(train_loss)\n",
        "        test_losses6.append(train_loss / test_input.shape[0])\n",
        "        print(f'Epoch {i} Train Loss: {epoch_loss/ X.shape[0]} and Test loss: {train_loss / test_input.shape[0]}')\n",
        "    return (train_losses6, test_losses6)\n",
        "\n",
        "  def accuracy(self,pred,target):\n",
        "    pred_ones = torch.argmax(pred, dim=1)\n",
        "    target_ones = torch.nonzero(target)[:, 1]\n",
        "    return ((pred_ones == target_ones).sum().item() / target.shape[0])"
      ],
      "execution_count": 139,
      "outputs": []
    },
    {
      "cell_type": "code",
      "metadata": {
        "colab": {
          "base_uri": "https://localhost:8080/"
        },
        "id": "h5tHZOU28vKy",
        "outputId": "d7cdd622-60c7-459e-af61-0ff16dfa547b"
      },
      "source": [
        "model6 = Neural_Network5(50,in_size=3072,out_size=10,lr=0.25 )\n",
        "train_losses6, test_losses6 = model6.train(train_input, train_target, test_input, test_target, epoch=500)"
      ],
      "execution_count": 140,
      "outputs": [
        {
          "output_type": "stream",
          "text": [
            "Epoch 0 Train Loss: 0.8099978874921798 and Test loss: 1.8849998712539673\n",
            "Epoch 100 Train Loss: 1.8849999904632568 and Test loss: 1.8849998712539673\n",
            "Epoch 200 Train Loss: 1.8849999904632568 and Test loss: 1.8849998712539673\n",
            "Epoch 300 Train Loss: 1.8849999904632568 and Test loss: 1.8849998712539673\n",
            "Epoch 400 Train Loss: 1.8849999904632568 and Test loss: 1.8849998712539673\n"
          ],
          "name": "stdout"
        }
      ]
    },
    {
      "cell_type": "code",
      "metadata": {
        "colab": {
          "base_uri": "https://localhost:8080/"
        },
        "id": "uClQJUwc8vOk",
        "outputId": "a19fc38b-853a-43c8-c443-7aa8aef2ede7"
      },
      "source": [
        "pred6 = model6.forward(train_input)[-1]\n",
        "model6.accuracy(pred6, train_target)"
      ],
      "execution_count": 142,
      "outputs": [
        {
          "output_type": "execute_result",
          "data": {
            "text/plain": [
              "0.102"
            ]
          },
          "metadata": {},
          "execution_count": 142
        }
      ]
    },
    {
      "cell_type": "code",
      "metadata": {
        "colab": {
          "base_uri": "https://localhost:8080/"
        },
        "id": "N44eqFon8vQY",
        "outputId": "bdb58b27-5562-4fc9-fd9f-d42f053966f5"
      },
      "source": [
        "pred6 = model6.forward(test_input)[-1]\n",
        "model6.accuracy(pred6, test_target)"
      ],
      "execution_count": 143,
      "outputs": [
        {
          "output_type": "execute_result",
          "data": {
            "text/plain": [
              "0.103"
            ]
          },
          "metadata": {},
          "execution_count": 143
        }
      ]
    },
    {
      "cell_type": "code",
      "metadata": {
        "colab": {
          "base_uri": "https://localhost:8080/",
          "height": 351
        },
        "id": "M2eyFYYM8vT6",
        "outputId": "ffd4ebaf-9df6-439a-bf43-2db3d063dd9b"
      },
      "source": [
        "plt.figure(figsize=(14,10), dpi = 40)\n",
        "plt.plot(train_losses6)\n",
        "plt.plot(test_losses6)\n",
        "plt.legend([\"Train Loss\",\"Test Loss\"])\n",
        "plt.xlabel(\"Number of Iteration\")\n",
        "\n",
        "plt.ylabel(\"Loss\")\n",
        "plt.title(\"Train Loss vs Test Loss\")\n",
        "plt.show()"
      ],
      "execution_count": 144,
      "outputs": [
        {
          "output_type": "display_data",
          "data": {
            "image/png": "[encoded data removed]",
            "text/plain": [
              "<Figure size 560x400 with 1 Axes>"
            ]
          },
          "metadata": {
            "needs_background": "light"
          }
        }
      ]
    },
    {
      "cell_type": "code",
      "metadata": {
        "id": "wxYyUHqwZRnk"
      },
      "source": [
        "import numpy as np\n",
        "import pandas as pd"
      ],
      "execution_count": 260,
      "outputs": []
    },
    {
      "cell_type": "code",
      "metadata": {
        "id": "35gYImu8OfCo"
      },
      "source": [
        "x = torch.linspace(-10, 10, 100)"
      ],
      "execution_count": 261,
      "outputs": []
    },
    {
      "cell_type": "code",
      "metadata": {
        "id": "alqwqmS7ZIDa"
      },
      "source": [
        "df = pd.DataFrame(dict(\n",
        "    x=x,\n",
        "    s_sigmoid = s_sigmoid(x),\n",
        "    sigmoid = sigmoid(x)\n",
        "    # Tanh = sigma(x),\n",
        "    # relu = ReLU(x)\n",
        "))"
      ],
      "execution_count": 262,
      "outputs": []
    },
    {
      "cell_type": "code",
      "metadata": {
        "id": "cvp-1eI4kcQ2"
      },
      "source": [
        "import matplotlib.pyplot as plt"
      ],
      "execution_count": 263,
      "outputs": []
    },
    {
      "cell_type": "code",
      "metadata": {
        "colab": {
          "base_uri": "https://localhost:8080/",
          "height": 443
        },
        "id": "JWNRQK0iaYWd",
        "outputId": "8d9366fa-b885-4fce-8b53-70c4ca09a835"
      },
      "source": [
        "fig = df.plot.scatter(x=[\"x\", \"x\"], y=[\"s_sigmoid\",\"sigmoid\"])\n",
        "fig.show()"
      ],
      "execution_count": 264,
      "outputs": [
        {
          "output_type": "error",
          "ename": "AttributeError",
          "evalue": "ignored",
          "traceback": [
            "\u001b[0;31m---------------------------------------------------------------------------\u001b[0m",
            "\u001b[0;31mAttributeError\u001b[0m                            Traceback (most recent call last)",
            "\u001b[0;32m<ipython-input-264-7a0ddea817f5>\u001b[0m in \u001b[0;36m<module>\u001b[0;34m()\u001b[0m\n\u001b[1;32m      1\u001b[0m \u001b[0mfig\u001b[0m \u001b[0;34m=\u001b[0m \u001b[0mdf\u001b[0m\u001b[0;34m.\u001b[0m\u001b[0mplot\u001b[0m\u001b[0;34m.\u001b[0m\u001b[0mscatter\u001b[0m\u001b[0;34m(\u001b[0m\u001b[0mx\u001b[0m\u001b[0;34m=\u001b[0m\u001b[0;34m[\u001b[0m\u001b[0;34m\"x\"\u001b[0m\u001b[0;34m,\u001b[0m \u001b[0;34m\"x\"\u001b[0m\u001b[0;34m]\u001b[0m\u001b[0;34m,\u001b[0m \u001b[0my\u001b[0m\u001b[0;34m=\u001b[0m\u001b[0;34m[\u001b[0m\u001b[0;34m\"s_sigmoid\"\u001b[0m\u001b[0;34m,\u001b[0m\u001b[0;34m\"sigmoid\"\u001b[0m\u001b[0;34m]\u001b[0m\u001b[0;34m)\u001b[0m\u001b[0;34m\u001b[0m\u001b[0;34m\u001b[0m\u001b[0m\n\u001b[0;32m----> 2\u001b[0;31m \u001b[0mfig\u001b[0m\u001b[0;34m.\u001b[0m\u001b[0mshow\u001b[0m\u001b[0;34m(\u001b[0m\u001b[0;34m)\u001b[0m\u001b[0;34m\u001b[0m\u001b[0;34m\u001b[0m\u001b[0m\n\u001b[0m",
            "\u001b[0;31mAttributeError\u001b[0m: 'AxesSubplot' object has no attribute 'show'"
          ]
        },
        {
          "output_type": "display_data",
          "data": {
            "image/png": "[encoded data removed]",
            "text/plain": [
              "<Figure size 432x288 with 1 Axes>"
            ]
          },
          "metadata": {
            "needs_background": "light"
          }
        }
      ]
    },
    {
      "cell_type": "code",
      "metadata": {
        "id": "PALAXhQobDus"
      },
      "source": [
        ""
      ],
      "execution_count": null,
      "outputs": []
    }
  ]
}